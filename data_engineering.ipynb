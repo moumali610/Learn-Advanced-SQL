{
 "cells": [
  {
   "cell_type": "markdown",
   "metadata": {},
   "source": [
    "Step 1 - Data Engineering\n",
    "The climate data for Hawaii is provided through two CSV files. Start by using Python and Pandas to inspect the content of these files and clean the data.\n",
    "\n",
    "Create a Jupyter Notebook file called data_engineering.ipynb and use this to complete all of your Data Engineering tasks.\n",
    "\n",
    "Use Pandas to read in the measurement and station CSV files as DataFrames.\n",
    "\n",
    "Inspect the data for NaNs and missing values. You must decide what to do with this data.\n",
    "\n",
    "Save your cleaned CSV files with the prefix clean_.\n"
   ]
  },
  {
   "cell_type": "markdown",
   "metadata": {},
   "source": [
    "# Step 1 - Data Engineering"
   ]
  },
  {
   "cell_type": "code",
   "execution_count": 1,
   "metadata": {
    "collapsed": true
   },
   "outputs": [],
   "source": [
    "# Pandas\n",
    "import pandas as pd\n",
    "import numpy as np\n",
    "import os\n",
    "\n",
    "# SQL Alchemy\n",
    "from sqlalchemy import create_engine\n",
    "\n",
    "# PyMySQL \n",
    "import pymysql\n",
    "pymysql.install_as_MySQLdb()"
   ]
  },
  {
   "cell_type": "code",
   "execution_count": 2,
   "metadata": {
    "collapsed": true
   },
   "outputs": [],
   "source": [
    "#CSV files\n",
    "measurements_csv = \"hawaii_measurements.csv\"\n",
    "stations_csv = \"hawaii_stations.csv\""
   ]
  },
  {
   "cell_type": "code",
   "execution_count": 3,
   "metadata": {
    "collapsed": true
   },
   "outputs": [],
   "source": [
    "#Read CSV files into a Pandas DataFrame\n",
    "measurements_df = pd.read_csv(measurements_csv, dtype=object)\n",
    "measurements_df\n",
    "stations_df = pd.read_csv(stations_csv, dtype=object)\n",
    "#stations_df"
   ]
  },
  {
   "cell_type": "code",
   "execution_count": 4,
   "metadata": {
    "collapsed": true
   },
   "outputs": [],
   "source": [
    "# Use `dropna` to drop any rows where there is missing data\n",
    "## For measurements_df\n",
    "clean_measurements_df = measurements_df.dropna(axis=0)\n",
    "#clean_measurements_df\n",
    "\n",
    "## For stations_df\n",
    "clean_stations_df = stations_df.dropna(axis=0)\n",
    "#clean_stations_df"
   ]
  },
  {
   "cell_type": "code",
   "execution_count": 5,
   "metadata": {
    "collapsed": true
   },
   "outputs": [],
   "source": [
    "# Save the cleaned data to a file called `clean_measurements.csv`\n",
    "clean_measurements_csv = \"clean_measurements.csv\"\n",
    "clean_measurements_df.to_csv(clean_measurements_csv, index=False)"
   ]
  },
  {
   "cell_type": "code",
   "execution_count": 6,
   "metadata": {
    "collapsed": true
   },
   "outputs": [],
   "source": [
    "# Save the cleaned data to a file called `clean_stations.csv`\n",
    "clean_stations_csv = \"clean_stations.csv\"\n",
    "clean_stations_df.to_csv(clean_stations_csv, index=False)"
   ]
  },
  {
   "cell_type": "code",
   "execution_count": null,
   "metadata": {
    "collapsed": true
   },
   "outputs": [],
   "source": []
  },
  {
   "cell_type": "code",
   "execution_count": null,
   "metadata": {
    "collapsed": true
   },
   "outputs": [],
   "source": []
  },
  {
   "cell_type": "code",
   "execution_count": null,
   "metadata": {
    "collapsed": true
   },
   "outputs": [],
   "source": []
  },
  {
   "cell_type": "code",
   "execution_count": null,
   "metadata": {
    "collapsed": true
   },
   "outputs": [],
   "source": []
  }
 ],
 "metadata": {
  "kernelspec": {
   "display_name": "Python 3",
   "language": "python",
   "name": "python3"
  },
  "language_info": {
   "codemirror_mode": {
    "name": "ipython",
    "version": 3
   },
   "file_extension": ".py",
   "mimetype": "text/x-python",
   "name": "python",
   "nbconvert_exporter": "python",
   "pygments_lexer": "ipython3",
   "version": "3.6.3"
  }
 },
 "nbformat": 4,
 "nbformat_minor": 2
}
