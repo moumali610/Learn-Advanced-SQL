{
 "cells": [
  {
   "cell_type": "markdown",
   "metadata": {},
   "source": [
    "You are now ready to use Python and SQLAlchemy to do basic climate analysis and data exploration on your new weather station tables. All of the following analysis should be completed using SQLAlchemy ORM queries, Pandas, and Matplotlib.\n",
    "\n",
    "Create a Jupyter Notebook file called climate_analysis.ipynb and use it to complete your climate analysis and data exporation.\n",
    "\n",
    "Choose a start date and end date for your trip. Make sure that your vacation range is approximately 3-15 days total.\n",
    "\n",
    "Use SQLAlchemy create_engine to connect to your sqlite database.\n",
    "\n",
    "Use SQLAlchemy automap_base() to reflect your tables into classes and save a reference to those classes called Station and Measurement."
   ]
  },
  {
   "cell_type": "markdown",
   "metadata": {},
   "source": [
    "# Step 3 - Climate Analysis and Exploration"
   ]
  },
  {
   "cell_type": "markdown",
   "metadata": {},
   "source": [
    "Meriedith and Giselle's Girls' TRIP to Honolulu, HI\n",
    "\n",
    "Dates: August 08, 2016 - August 12, 2016\n",
    "Trip duration: 5 Days"
   ]
  },
  {
   "cell_type": "code",
   "execution_count": 1,
   "metadata": {
    "collapsed": true
   },
   "outputs": [],
   "source": [
    "# !rm hawaii.sqlite"
   ]
  },
  {
   "cell_type": "code",
   "execution_count": 2,
   "metadata": {
    "collapsed": true
   },
   "outputs": [],
   "source": [
    "import pandas as pd\n",
    "import numpy as np\n",
    "\n",
    "# Import SQL Alchemy; # Python SQL toolkit and Object Relational Mapper\n",
    "import sqlalchemy\n",
    "from sqlalchemy import create_engine, MetaData\n",
    "from sqlalchemy.ext.automap import automap_base\n",
    "from sqlalchemy import create_engine, inspect, func\n",
    "\n",
    "# Import and establish Base for which classes will be constructed \n",
    "from sqlalchemy.ext.declarative import declarative_base\n",
    "Base = declarative_base()\n",
    "\n",
    "# Import modules to declare columns and column data types\n",
    "from sqlalchemy import Column, Integer, String, Numeric, Text, Float, Date\n",
    "\n",
    "import datetime as dt\n",
    "from sqlalchemy import func"
   ]
  },
  {
   "cell_type": "code",
   "execution_count": 3,
   "metadata": {
    "collapsed": true
   },
   "outputs": [],
   "source": [
    "# Python SQL toolkit and Object Relational Mapper\n",
    "import sqlalchemy\n",
    "from sqlalchemy.ext.automap import automap_base\n",
    "from sqlalchemy.orm import Session\n",
    "from sqlalchemy import create_engine"
   ]
  },
  {
   "cell_type": "code",
   "execution_count": 4,
   "metadata": {
    "collapsed": true
   },
   "outputs": [],
   "source": [
    "# Use SQLAlchemy create_engine to connect to your sqlite database.\n",
    "engine = create_engine(\"sqlite:///hawaii.sqlite\")"
   ]
  },
  {
   "cell_type": "code",
   "execution_count": 5,
   "metadata": {
    "collapsed": true
   },
   "outputs": [],
   "source": [
    "# Declare a Base using `automap_base()`\n",
    "Base = automap_base()"
   ]
  },
  {
   "cell_type": "code",
   "execution_count": 6,
   "metadata": {
    "collapsed": true
   },
   "outputs": [],
   "source": [
    "# Use the Base class to reflect the database tables\n",
    "Base.prepare(engine, reflect=True)"
   ]
  },
  {
   "cell_type": "code",
   "execution_count": 7,
   "metadata": {},
   "outputs": [
    {
     "data": {
      "text/plain": [
       "['measurements', 'stations']"
      ]
     },
     "execution_count": 7,
     "metadata": {},
     "output_type": "execute_result"
    }
   ],
   "source": [
    "# Print all of the classes mapped to the Base\n",
    "Base.classes.keys()"
   ]
  },
  {
   "cell_type": "code",
   "execution_count": 8,
   "metadata": {
    "collapsed": true
   },
   "outputs": [],
   "source": [
    "# Assign the measurements class to a variable called `Measurements`\n",
    "Measurement = Base.classes.measurements\n"
   ]
  },
  {
   "cell_type": "code",
   "execution_count": 9,
   "metadata": {
    "collapsed": true
   },
   "outputs": [],
   "source": [
    "# Assign the stations class to a variable called `Stations`\n",
    "Station = Base.classes.stations\n"
   ]
  },
  {
   "cell_type": "code",
   "execution_count": 10,
   "metadata": {
    "collapsed": true
   },
   "outputs": [],
   "source": [
    "# Create a session\n",
    "session = Session(engine)"
   ]
  },
  {
   "cell_type": "code",
   "execution_count": 11,
   "metadata": {},
   "outputs": [
    {
     "name": "stdout",
     "output_type": "stream",
     "text": [
      "(<sqlalchemy.ext.automap.measurements object at 0x10fa67748>, '2010-01-01')\n"
     ]
    }
   ],
   "source": [
    "###TESTING IF THE SECESSION WORKS FOR Measurements###\n",
    "# Use the session to query Measurements table and display the first 5 dates\n",
    "for row in session.query(Measurement, Measurement.date).limit(1).all():\n",
    "    print(row)\n"
   ]
  },
  {
   "cell_type": "code",
   "execution_count": 12,
   "metadata": {},
   "outputs": [
    {
     "name": "stdout",
     "output_type": "stream",
     "text": [
      "(<sqlalchemy.ext.automap.stations object at 0x10fa67828>, 'WAIKIKI 717.2, HI US')\n"
     ]
    }
   ],
   "source": [
    "###TESTING IF THE SECESSION WORKS FOR Stations###\n",
    "# Use the session to query Stations table and display the first 5 dates\n",
    "for row in session.query(Station, Station.name).limit(1).all():\n",
    "    print(row)"
   ]
  },
  {
   "cell_type": "code",
   "execution_count": 13,
   "metadata": {},
   "outputs": [
    {
     "name": "stdout",
     "output_type": "stream",
     "text": [
      "9\n"
     ]
    }
   ],
   "source": [
    "###TESTING THE SESSION PART 2###\n",
    "#Query and print the number of unique Stations in Hawaii\n",
    "# Hints: Look into counting and grouping operations in SQLAlchemy\n",
    "### BEGIN SOLUTION\n",
    "NumStations = session.query(Station).group_by(Station.station).count()\n",
    "print(NumStations)\n",
    "### END SOLUTION"
   ]
  },
  {
   "cell_type": "code",
   "execution_count": 14,
   "metadata": {},
   "outputs": [
    {
     "name": "stdout",
     "output_type": "stream",
     "text": [
      "('USC00511918',)\n",
      "('USC00513117',)\n",
      "('USC00514830',)\n",
      "('USC00516128',)\n",
      "('USC00517948',)\n",
      "('USC00518838',)\n",
      "('USC00519281',)\n",
      "('USC00519397',)\n",
      "('USC00519523',)\n"
     ]
    }
   ],
   "source": [
    "# Use the session to query Dow table and display the first 5 trade volumes\n",
    "for row in session.query(Station.station).limit(15).all():\n",
    "    print(row)"
   ]
  },
  {
   "cell_type": "markdown",
   "metadata": {},
   "source": [
    "# Precipitation Analysis\n",
    "Design a query to retrieve the last 12 months of precipitation data.\n",
    "\n",
    "Select only the date and prcp values.\n",
    "\n",
    "Load the query results into a Pandas DataFrame and set the index to the date column.\n",
    "\n",
    "Plot the results using the DataFrame plot method.\n",
    "\n",
    "Use Pandas to print the summary statistics for the precipitation data."
   ]
  },
  {
   "cell_type": "code",
   "execution_count": 15,
   "metadata": {},
   "outputs": [],
   "source": [
    "#Design a query to retrieve the last 12 months of precipitation data.\n",
    "## To do this, query the Measurement table and order_by desc date\n",
    "\n",
    "past_year = session.query(Measurement.date).order_by(Measurement.date.desc()).all()\n",
    "#print(past_year)\n",
    "\n",
    "#this will dates in descending order"
   ]
  },
  {
   "cell_type": "code",
   "execution_count": 16,
   "metadata": {},
   "outputs": [],
   "source": [
    "# Next, Select only the date and prcp values.\n",
    "\n",
    "date_prcp = session.query(Measurement.date, Measurement.prcp, Measurement.station).order_by(Measurement.date.desc()).all()\n",
    "#print(date_prcp)\n",
    "\n",
    "# this prints our date and prcp in the order of descending dates"
   ]
  },
  {
   "cell_type": "code",
   "execution_count": 17,
   "metadata": {},
   "outputs": [
    {
     "data": {
      "text/html": [
       "<div>\n",
       "<style>\n",
       "    .dataframe thead tr:only-child th {\n",
       "        text-align: right;\n",
       "    }\n",
       "\n",
       "    .dataframe thead th {\n",
       "        text-align: left;\n",
       "    }\n",
       "\n",
       "    .dataframe tbody tr th {\n",
       "        vertical-align: top;\n",
       "    }\n",
       "</style>\n",
       "<table border=\"1\" class=\"dataframe\">\n",
       "  <thead>\n",
       "    <tr style=\"text-align: right;\">\n",
       "      <th></th>\n",
       "      <th>prcp</th>\n",
       "      <th>station</th>\n",
       "    </tr>\n",
       "    <tr>\n",
       "      <th>date</th>\n",
       "      <th></th>\n",
       "      <th></th>\n",
       "    </tr>\n",
       "  </thead>\n",
       "  <tbody>\n",
       "    <tr>\n",
       "      <th>2017-08-23</th>\n",
       "      <td>0.00</td>\n",
       "      <td>USC00519397</td>\n",
       "    </tr>\n",
       "    <tr>\n",
       "      <th>2017-08-23</th>\n",
       "      <td>0.00</td>\n",
       "      <td>USC00514830</td>\n",
       "    </tr>\n",
       "    <tr>\n",
       "      <th>2017-08-23</th>\n",
       "      <td>0.08</td>\n",
       "      <td>USC00519523</td>\n",
       "    </tr>\n",
       "    <tr>\n",
       "      <th>2017-08-23</th>\n",
       "      <td>0.45</td>\n",
       "      <td>USC00516128</td>\n",
       "    </tr>\n",
       "    <tr>\n",
       "      <th>2017-08-22</th>\n",
       "      <td>0.00</td>\n",
       "      <td>USC00519397</td>\n",
       "    </tr>\n",
       "  </tbody>\n",
       "</table>\n",
       "</div>"
      ],
      "text/plain": [
       "            prcp      station\n",
       "date                         \n",
       "2017-08-23  0.00  USC00519397\n",
       "2017-08-23  0.00  USC00514830\n",
       "2017-08-23  0.08  USC00519523\n",
       "2017-08-23  0.45  USC00516128\n",
       "2017-08-22  0.00  USC00519397"
      ]
     },
     "execution_count": 17,
     "metadata": {},
     "output_type": "execute_result"
    }
   ],
   "source": [
    "# Load the query results into a Pandas DataFrame\n",
    "   #and set the index to the date column.\n",
    "\n",
    "date_prcp_df = pd.DataFrame(date_prcp)\n",
    "date_prcp_df.set_index(\"date\").head()"
   ]
  },
  {
   "cell_type": "code",
   "execution_count": 18,
   "metadata": {},
   "outputs": [
    {
     "data": {
      "text/html": [
       "<div>\n",
       "<style>\n",
       "    .dataframe thead tr:only-child th {\n",
       "        text-align: right;\n",
       "    }\n",
       "\n",
       "    .dataframe thead th {\n",
       "        text-align: left;\n",
       "    }\n",
       "\n",
       "    .dataframe tbody tr th {\n",
       "        vertical-align: top;\n",
       "    }\n",
       "</style>\n",
       "<table border=\"1\" class=\"dataframe\">\n",
       "  <thead>\n",
       "    <tr style=\"text-align: right;\">\n",
       "      <th></th>\n",
       "      <th>date</th>\n",
       "      <th>prcp</th>\n",
       "      <th>station</th>\n",
       "    </tr>\n",
       "  </thead>\n",
       "  <tbody>\n",
       "    <tr>\n",
       "      <th>3681</th>\n",
       "      <td>2015-10-30</td>\n",
       "      <td>0.0</td>\n",
       "      <td>USC00511918</td>\n",
       "    </tr>\n",
       "    <tr>\n",
       "      <th>3688</th>\n",
       "      <td>2015-10-29</td>\n",
       "      <td>0.0</td>\n",
       "      <td>USC00511918</td>\n",
       "    </tr>\n",
       "    <tr>\n",
       "      <th>3695</th>\n",
       "      <td>2015-10-28</td>\n",
       "      <td>0.0</td>\n",
       "      <td>USC00511918</td>\n",
       "    </tr>\n",
       "    <tr>\n",
       "      <th>3708</th>\n",
       "      <td>2015-10-26</td>\n",
       "      <td>0.1</td>\n",
       "      <td>USC00511918</td>\n",
       "    </tr>\n",
       "    <tr>\n",
       "      <th>3715</th>\n",
       "      <td>2015-10-25</td>\n",
       "      <td>0.0</td>\n",
       "      <td>USC00511918</td>\n",
       "    </tr>\n",
       "  </tbody>\n",
       "</table>\n",
       "</div>"
      ],
      "text/plain": [
       "            date  prcp      station\n",
       "3681  2015-10-30   0.0  USC00511918\n",
       "3688  2015-10-29   0.0  USC00511918\n",
       "3695  2015-10-28   0.0  USC00511918\n",
       "3708  2015-10-26   0.1  USC00511918\n",
       "3715  2015-10-25   0.0  USC00511918"
      ]
     },
     "execution_count": 18,
     "metadata": {},
     "output_type": "execute_result"
    }
   ],
   "source": [
    "#Since we are only at Honolulu, select only rows were station is 'USC00511918'\n",
    "\n",
    "Honolulu_prcp_df = date_prcp_df.loc[date_prcp_df['station'] == 'USC00511918']\n",
    "Honolulu_prcp_df.head()\n",
    "# the last date recorded for Honolulu is 2015-10-30"
   ]
  },
  {
   "cell_type": "code",
   "execution_count": 19,
   "metadata": {},
   "outputs": [],
   "source": [
    "#For plotting purposes only, order_by ascending order\n",
    "new_date_prcp = session.query(Measurement.date, Measurement.prcp, Measurement.station).order_by(Measurement.date.asc()).all()\n",
    "new_date_prcp_df = pd.DataFrame(new_date_prcp)\n",
    "#new_date_prcp_df.set_index(\"date\").head()\n",
    "new_Honolulu_prcp_df = new_date_prcp_df.loc[date_prcp_df['station'] == 'USC00511918']\n",
    "\n"
   ]
  },
  {
   "cell_type": "code",
   "execution_count": 20,
   "metadata": {},
   "outputs": [
    {
     "name": "stderr",
     "output_type": "stream",
     "text": [
      "/Users/meriedithumali/anaconda3/lib/python3.6/site-packages/ipykernel_launcher.py:4: SettingWithCopyWarning: \n",
      "A value is trying to be set on a copy of a slice from a DataFrame.\n",
      "Try using .loc[row_indexer,col_indexer] = value instead\n",
      "\n",
      "See the caveats in the documentation: http://pandas.pydata.org/pandas-docs/stable/indexing.html#indexing-view-versus-copy\n",
      "  after removing the cwd from sys.path.\n"
     ]
    },
    {
     "data": {
      "text/html": [
       "<div>\n",
       "<style>\n",
       "    .dataframe thead tr:only-child th {\n",
       "        text-align: right;\n",
       "    }\n",
       "\n",
       "    .dataframe thead th {\n",
       "        text-align: left;\n",
       "    }\n",
       "\n",
       "    .dataframe tbody tr th {\n",
       "        vertical-align: top;\n",
       "    }\n",
       "</style>\n",
       "<table border=\"1\" class=\"dataframe\">\n",
       "  <thead>\n",
       "    <tr style=\"text-align: right;\">\n",
       "      <th></th>\n",
       "      <th>date</th>\n",
       "      <th>prcp</th>\n",
       "      <th>station</th>\n",
       "    </tr>\n",
       "  </thead>\n",
       "  <tbody>\n",
       "    <tr>\n",
       "      <th>13930</th>\n",
       "      <td>2015-08-09</td>\n",
       "      <td>0.06</td>\n",
       "      <td>USC00519281</td>\n",
       "    </tr>\n",
       "    <tr>\n",
       "      <th>13938</th>\n",
       "      <td>2015-08-11</td>\n",
       "      <td>0.00</td>\n",
       "      <td>USC00519397</td>\n",
       "    </tr>\n",
       "    <tr>\n",
       "      <th>13944</th>\n",
       "      <td>2015-08-12</td>\n",
       "      <td>0.00</td>\n",
       "      <td>USC00519397</td>\n",
       "    </tr>\n",
       "    <tr>\n",
       "      <th>13950</th>\n",
       "      <td>2015-08-12</td>\n",
       "      <td>0.39</td>\n",
       "      <td>USC00516128</td>\n",
       "    </tr>\n",
       "    <tr>\n",
       "      <th>13956</th>\n",
       "      <td>2015-08-13</td>\n",
       "      <td>0.44</td>\n",
       "      <td>USC00516128</td>\n",
       "    </tr>\n",
       "  </tbody>\n",
       "</table>\n",
       "</div>"
      ],
      "text/plain": [
       "            date  prcp      station\n",
       "13930 2015-08-09  0.06  USC00519281\n",
       "13938 2015-08-11  0.00  USC00519397\n",
       "13944 2015-08-12  0.00  USC00519397\n",
       "13950 2015-08-12  0.39  USC00516128\n",
       "13956 2015-08-13  0.44  USC00516128"
      ]
     },
     "execution_count": 20,
     "metadata": {},
     "output_type": "execute_result"
    }
   ],
   "source": [
    "#Planned vacation is 2016-08-08 - 2016-08-12\n",
    "# must select only data from 2015-08-08 to 2016-08-08 (12 months)\n",
    "#year_data_prcp_df = new_Honolulu_prcp_df.loc[new_Honolulu_prcp_df['date'] == 'USC00511918']\n",
    "new_Honolulu_prcp_df['date'] = pd.to_datetime(new_Honolulu_prcp_df['date'])  \n",
    "mask = (new_Honolulu_prcp_df['date'] > '2015-8-8') & (new_Honolulu_prcp_df['date'] <= '2016-8-8')\n",
    "year_data_prcp_df = new_Honolulu_prcp_df.loc[mask] \n",
    "year_data_prcp_df.head()"
   ]
  },
  {
   "cell_type": "code",
   "execution_count": 23,
   "metadata": {},
   "outputs": [
    {
     "data": {
      "image/png": "[encoded data removed]",
      "text/plain": [
       "<matplotlib.figure.Figure at 0x1197ae208>"
      ]
     },
     "metadata": {},
     "output_type": "display_data"
    },
    {
     "data": {
      "text/plain": [
       "<matplotlib.figure.Figure at 0x1163e6d30>"
      ]
     },
     "metadata": {},
     "output_type": "display_data"
    }
   ],
   "source": [
    "# Load Matplotlib to plot data\n",
    "import matplotlib.pyplot as plt\n",
    "import numpy as np\n",
    "\n",
    "year_data_prcp_df.plot('date', 'prcp')\n",
    "plt.xlabel(\"Date\")\n",
    "plt.ylabel(\"Percipitation (milimetres)\")\n",
    "plt.title(\"Perciptation in Honolulu, HI for 12 months (2015-08-08 to 2016-08-08)\")\n",
    "plt.legend([\"Preciptation\"])\n",
    "plt.xticks(rotation = 45)\n",
    "gridlines = True\n",
    "plt.figure(figsize=(10,12))\n",
    "plt.show()"
   ]
  },
  {
   "cell_type": "code",
   "execution_count": 25,
   "metadata": {},
   "outputs": [
    {
     "data": {
      "text/html": [
       "<div>\n",
       "<style>\n",
       "    .dataframe thead tr:only-child th {\n",
       "        text-align: right;\n",
       "    }\n",
       "\n",
       "    .dataframe thead th {\n",
       "        text-align: left;\n",
       "    }\n",
       "\n",
       "    .dataframe tbody tr th {\n",
       "        vertical-align: top;\n",
       "    }\n",
       "</style>\n",
       "<table border=\"1\" class=\"dataframe\">\n",
       "  <thead>\n",
       "    <tr style=\"text-align: right;\">\n",
       "      <th></th>\n",
       "      <th>prcp</th>\n",
       "    </tr>\n",
       "  </thead>\n",
       "  <tbody>\n",
       "    <tr>\n",
       "      <th>count</th>\n",
       "      <td>281.000000</td>\n",
       "    </tr>\n",
       "    <tr>\n",
       "      <th>mean</th>\n",
       "      <td>0.241922</td>\n",
       "    </tr>\n",
       "    <tr>\n",
       "      <th>std</th>\n",
       "      <td>0.590654</td>\n",
       "    </tr>\n",
       "    <tr>\n",
       "      <th>min</th>\n",
       "      <td>0.000000</td>\n",
       "    </tr>\n",
       "    <tr>\n",
       "      <th>25%</th>\n",
       "      <td>0.000000</td>\n",
       "    </tr>\n",
       "    <tr>\n",
       "      <th>50%</th>\n",
       "      <td>0.030000</td>\n",
       "    </tr>\n",
       "    <tr>\n",
       "      <th>75%</th>\n",
       "      <td>0.230000</td>\n",
       "    </tr>\n",
       "    <tr>\n",
       "      <th>max</th>\n",
       "      <td>6.830000</td>\n",
       "    </tr>\n",
       "  </tbody>\n",
       "</table>\n",
       "</div>"
      ],
      "text/plain": [
       "             prcp\n",
       "count  281.000000\n",
       "mean     0.241922\n",
       "std      0.590654\n",
       "min      0.000000\n",
       "25%      0.000000\n",
       "50%      0.030000\n",
       "75%      0.230000\n",
       "max      6.830000"
      ]
     },
     "execution_count": 25,
     "metadata": {},
     "output_type": "execute_result"
    }
   ],
   "source": [
    "#Use Pandas to print the summary statistics for the precipitation data.\n",
    "prcp_stat_df = year_data_prcp_df.describe()\n",
    "prcp_stat_df"
   ]
  },
  {
   "cell_type": "markdown",
   "metadata": {},
   "source": [
    "# Temperature Analysis"
   ]
  },
  {
   "cell_type": "markdown",
   "metadata": {},
   "source": [
    "Write a function called calc_temps that will accept a start date and end date in the format %Y-%m-%d and return the minimum, average, and maximum temperatures for that range of dates.\n",
    "\n",
    "Use the calc_temps function to calculate the min, avg, and max temperatures for your trip using the matching dates from the previous year (i.e. use \"2017-01-01\" if your trip start date was \"2018-01-01\")\n",
    "\n",
    "Plot the min, avg, and max temperature from your previous query as a bar chart.\n",
    "\n",
    "Use the average temperature as the bar height.\n",
    "\n",
    "Use the peak-to-peak (tmax-tmin) value as the y error bar (yerr)."
   ]
  },
  {
   "cell_type": "code",
   "execution_count": 60,
   "metadata": {},
   "outputs": [],
   "source": [
    "# Write a function called calc_temps that will accept a start date \n",
    "# and end date in the format %Y-%m-%d and return the minimum, average, \n",
    "# and maximum temperatures for that range of dates.\n",
    "\n",
    "#function:\n",
    "def calc_temps(start_date, end_date):\n",
    "    min_temp = session.query(func.min(Measurement.tobs))\\\n",
    "    .filter(Measurement.date >= start_date)\\\n",
    "    .filter(Measurement.date <= end_date).all()\n",
    "\n",
    "    max_temp = session.query(func.max(Measurement.tobs))\\\n",
    "    .filter(Measurement.date >= start_date)\\\n",
    "    .filter(Measurement.date <= end_date).all()\n",
    "\n",
    "    avg_temp = session.query(func.avg(Measurement.tobs))\\\n",
    "    .filter(Measurement.date >= start_date)\\\n",
    "    .filter(Measurement.date <= end_date).all()\n",
    "    \n",
    "    print(\"Climate in Honolulu, Hawaii from \" +start_date+ \" to \" +end_date+ \n",
    "          \" saw a low of \" + str(min_temp)+ \"degrees F and a high of \" +str(max_temp)+\n",
    "          \" degrees F. The average temperature was \" +str(avg_temp)+ \" degrees F.\")\n",
    "    \n",
    "    return min_temp, max_temp, avg_temp"
   ]
  },
  {
   "cell_type": "code",
   "execution_count": 61,
   "metadata": {},
   "outputs": [
    {
     "name": "stdout",
     "output_type": "stream",
     "text": [
      "Climate in Honolulu, Hawaii from 2015-08-08 to 2015-08-12 saw a low of [(73,)]degrees F and a high of [(83,)] degrees F. The average temperature was [(78.60714285714286,)] degrees F.\n"
     ]
    },
    {
     "data": {
      "text/plain": [
       "([(73)], [(83)], [(78.60714285714286)])"
      ]
     },
     "execution_count": 61,
     "metadata": {},
     "output_type": "execute_result"
    }
   ],
   "source": [
    "# Use the calc_temps function to calculate the min, avg, and \n",
    "# max temperatures for your trip using the matching dates from\n",
    "# the previous year (i.e. use \"2017-01-01\" if your trip start date\n",
    "# was \"2018-01-01\")\n",
    "\n",
    "# dates for the trip: 2016-08-08 to 2016-08-12\n",
    "# matching dates from the previous year: 2015-08-08 to 2015-08-12\n",
    "\n",
    "start_date = \"2015-08-08\"\n",
    "end_date = \"2015-08-12\"\n",
    "calc_temps(start_date, end_date)\n",
    "\n"
   ]
  },
  {
   "cell_type": "code",
   "execution_count": null,
   "metadata": {},
   "outputs": [],
   "source": []
  },
  {
   "cell_type": "code",
   "execution_count": null,
   "metadata": {},
   "outputs": [],
   "source": [
    "\n"
   ]
  },
  {
   "cell_type": "code",
   "execution_count": null,
   "metadata": {
    "collapsed": true
   },
   "outputs": [],
   "source": []
  },
  {
   "cell_type": "code",
   "execution_count": null,
   "metadata": {
    "collapsed": true
   },
   "outputs": [],
   "source": []
  }
 ],
 "metadata": {
  "kernelspec": {
   "display_name": "Python 3",
   "language": "python",
   "name": "python3"
  },
  "language_info": {
   "codemirror_mode": {
    "name": "ipython",
    "version": 3
   },
   "file_extension": ".py",
   "mimetype": "text/x-python",
   "name": "python",
   "nbconvert_exporter": "python",
   "pygments_lexer": "ipython3",
   "version": "3.6.3"
  }
 },
 "nbformat": 4,
 "nbformat_minor": 2
}
